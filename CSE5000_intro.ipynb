{
 "cells": [
  {
   "cell_type": "markdown",
   "metadata": {
    "nbpresent": {
     "id": "4f04ccae-9783-40c6-8343-23e48358eacd"
    }
   },
   "source": [
    "# CSE5000 기초산업수학"
   ]
  },
  {
   "cell_type": "raw",
   "metadata": {
    "nbpresent": {
     "id": "9bd1ab94-5c90-4929-bbf7-58c06540da33"
    }
   },
   "source": [
    "1973년 Fisher Black과 Myron Schole "
   ]
  },
  {
   "cell_type": "markdown",
   "metadata": {
    "nbpresent": {
     "id": "2c5c56fe-3488-4532-82dc-750c6f61365c"
    }
   },
   "source": [
    "An option gives its buyer the right to buy(call option) or sell(put option) something in the future to teh options seller at a predetermined price(exercise price).\n",
    "\n",
    "For example, if we buy a European call option to acquire a stock for X dollors at time T, our payoff on maturity daty will be the one calculated using the following formula:\n",
    "\n",
    "payoff(call) = Max ($S_T$-X,0)"
   ]
  },
  {
   "cell_type": "code",
   "execution_count": 6,
   "metadata": {
    "collapsed": false,
    "nbpresent": {
     "id": "3ce47822-9eed-47db-a0b8-fa42cf29a355"
    }
   },
   "outputs": [
    {
     "data": {
      "text/plain": [
       "[<matplotlib.lines.Line2D at 0x40d5320>]"
      ]
     },
     "execution_count": 6,
     "metadata": {},
     "output_type": "execute_result"
    }
   ],
   "source": [
    "from pylab import *\n",
    "import numpy as np\n",
    "s = np.arange(10,80,5)\n",
    "x=30\n",
    "payoff = (abs(s-x)+s-x)/2\n",
    "ylim(-10,50)\n",
    "plot(s,payoff)"
   ]
  },
  {
   "cell_type": "markdown",
   "metadata": {
    "nbpresent": {
     "id": "4820ca89-71b2-48db-87b5-7077e9b02ad7"
    }
   },
   "source": [
    "$$\n",
    "John C. Hull,\\  {\\it Option, Futures, and Other Derivatives} \\\\\n",
    "Yves Hiplisch, {\\it Python for Finance: Analyze Big Financial Data}\n",
    "$$"
   ]
  },
  {
   "cell_type": "code",
   "execution_count": null,
   "metadata": {
    "collapsed": true,
    "nbpresent": {
     "id": "979765c1-e8ba-4b16-8810-7272dda8f97b"
    }
   },
   "outputs": [],
   "source": []
  }
 ],
 "metadata": {
  "anaconda-cloud": {},
  "kernelspec": {
   "display_name": "Python [Root]",
   "language": "python",
   "name": "Python [Root]"
  },
  "language_info": {
   "codemirror_mode": {
    "name": "ipython",
    "version": 2
   },
   "file_extension": ".py",
   "mimetype": "text/x-python",
   "name": "python",
   "nbconvert_exporter": "python",
   "pygments_lexer": "ipython2",
   "version": "2.7.11"
  },
  "nbpresent": {
   "slides": {
    "05d844dd-0603-4588-ac97-71b6a1a32da8": {
     "id": "05d844dd-0603-4588-ac97-71b6a1a32da8",
     "prev": null,
     "regions": {
      "f512ac15-319e-420c-96b3-84a445de11d3": {
       "attrs": {
        "height": 0.8,
        "width": 0.8,
        "x": 0.1,
        "y": 0.1
       },
       "content": {
        "cell": "4f04ccae-9783-40c6-8343-23e48358eacd",
        "part": "whole"
       },
       "id": "f512ac15-319e-420c-96b3-84a445de11d3"
      }
     }
    },
    "7b17a0c0-83ca-487d-b6ba-d2aab05edbbc": {
     "id": "7b17a0c0-83ca-487d-b6ba-d2aab05edbbc",
     "prev": "81c66f1e-293c-4bc2-9003-f998910df090",
     "regions": {
      "1c32273b-0737-48b7-8d69-c637db437a33": {
       "attrs": {
        "height": 0.8,
        "width": 0.8,
        "x": 0.1,
        "y": 0.1
       },
       "content": {
        "cell": "4820ca89-71b2-48db-87b5-7077e9b02ad7",
        "part": "whole"
       },
       "id": "1c32273b-0737-48b7-8d69-c637db437a33"
      }
     }
    },
    "81c66f1e-293c-4bc2-9003-f998910df090": {
     "id": "81c66f1e-293c-4bc2-9003-f998910df090",
     "prev": "845298ba-7f0d-4c3f-acaf-3439c3ea7b70",
     "regions": {
      "1e3ea4d5-f30d-4c62-b0cf-7b8dabc4db66": {
       "attrs": {
        "height": 0.8,
        "width": 0.8,
        "x": 0.1,
        "y": 0.1
       },
       "content": {
        "cell": "3ce47822-9eed-47db-a0b8-fa42cf29a355",
        "part": "whole"
       },
       "id": "1e3ea4d5-f30d-4c62-b0cf-7b8dabc4db66"
      }
     }
    },
    "845298ba-7f0d-4c3f-acaf-3439c3ea7b70": {
     "id": "845298ba-7f0d-4c3f-acaf-3439c3ea7b70",
     "prev": "a3d3373d-915e-47cd-b9dd-348d3ce6cd76",
     "regions": {
      "3680d54a-85b6-436f-a83d-b0e393a648b9": {
       "attrs": {
        "height": 0.8,
        "width": 0.8,
        "x": 0.1,
        "y": 0.1
       },
       "content": {
        "cell": "2c5c56fe-3488-4532-82dc-750c6f61365c",
        "part": "whole"
       },
       "id": "3680d54a-85b6-436f-a83d-b0e393a648b9"
      }
     }
    },
    "a3d3373d-915e-47cd-b9dd-348d3ce6cd76": {
     "id": "a3d3373d-915e-47cd-b9dd-348d3ce6cd76",
     "prev": "05d844dd-0603-4588-ac97-71b6a1a32da8",
     "regions": {
      "fbad86ef-982c-4157-9781-c55603bd6898": {
       "attrs": {
        "height": 0.8,
        "width": 0.8,
        "x": 0.1,
        "y": 0.1
       },
       "content": {
        "cell": "9bd1ab94-5c90-4929-bbf7-58c06540da33",
        "part": "whole"
       },
       "id": "fbad86ef-982c-4157-9781-c55603bd6898"
      }
     }
    },
    "ea9d1265-3a70-42a6-94f7-8c816f364336": {
     "id": "ea9d1265-3a70-42a6-94f7-8c816f364336",
     "prev": "7b17a0c0-83ca-487d-b6ba-d2aab05edbbc",
     "regions": {
      "eb2de1d2-2ab8-410f-8ec9-3ca2a9f533cc": {
       "attrs": {
        "height": 0.8,
        "width": 0.8,
        "x": 0.1,
        "y": 0.1
       },
       "content": {
        "cell": "979765c1-e8ba-4b16-8810-7272dda8f97b",
        "part": "whole"
       },
       "id": "eb2de1d2-2ab8-410f-8ec9-3ca2a9f533cc"
      }
     }
    }
   },
   "themes": {}
  }
 },
 "nbformat": 4,
 "nbformat_minor": 0
}
